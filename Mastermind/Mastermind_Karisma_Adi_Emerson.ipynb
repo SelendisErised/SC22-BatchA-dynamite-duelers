{
 "cells": [
  {
   "cell_type": "markdown",
   "metadata": {
    "collapsed": false,
    "id": "FIl5ePMRnNbH"
   },
   "source": [
    "# Welcome to **MASTERMIND**\n",
    "\n",
    "Today we will be creating Mastermind, a classic game similar to Wordle. The steps of Mastermind are as follows:\n",
    "\n",
    "*   The computer plays first by setting a 4-digit number.\n",
    "*   The user now tries their first attempt at guessing the number.\n",
    "*   If the user succeeds in their first attempt (despite odds which are highly unlikely) they win the game and is crowned Mastermind! If not, then the computer hints by revealing which digits or numbers the user got correct.\n",
    "*   The game continues till the user eventually is able to guess the number entirely.\n",
    "\n",
    "\n"
   ]
  },
  {
   "cell_type": "markdown",
   "metadata": {
    "collapsed": false,
    "id": "PyCFDcrEGhpg"
   },
   "source": [
    "## Some Python Background: Typecasting & Strings\n",
    "In this project, we will most likely use some typecasting. This is where you convert (or *cast*) a piece of data to a certain data type, such as a string or integer. Some of the code below could be useful for you on this project. "
   ]
  },
  {
   "cell_type": "code",
   "execution_count": 0,
   "metadata": {
    "colab": {
     "base_uri": "https://localhost:8080/"
    },
    "collapsed": false,
    "id": "MJ2biGAUG77u",
    "outputId": "9b0571f0-f867-4fac-e2bf-84fec90378bb"
   },
   "outputs": [
    {
     "name": "stdout",
     "output_type": "stream",
     "text": [
      "my_decimal: 150000.0\n"
     ]
    }
   ],
   "source": [
    "#start with a decimal\n",
    "my_decimal = 150000.0\n",
    "print(\"my_decimal:\", my_decimal)\n"
   ]
  },
  {
   "cell_type": "markdown",
   "metadata": {
    "collapsed": false,
    "id": "Q3-oqvm8H6fI"
   },
   "source": [
    "Typecasting lets us convert a piece of data to a different data type. "
   ]
  },
  {
   "cell_type": "code",
   "execution_count": 0,
   "metadata": {
    "colab": {
     "base_uri": "https://localhost:8080/"
    },
    "collapsed": false,
    "id": "6GbIe7mMHeOz",
    "outputId": "9cfb5b3d-61ab-4f36-a9a8-866849e6be80"
   },
   "outputs": [
    {
     "name": "stdout",
     "output_type": "stream",
     "text": [
      "number: 150000\n"
     ]
    }
   ],
   "source": [
    "my_integer = int(my_decimal) #convert the decimal into an integer\n",
    "print(\"my_integer:\", my_integer)"
   ]
  },
  {
   "cell_type": "markdown",
   "metadata": {
    "collapsed": false,
    "id": "86uGwcGTH_Hb"
   },
   "source": [
    "We may want to convert to different data types for processing data. Strings are one way to process numbers digit by digit."
   ]
  },
  {
   "cell_type": "code",
   "execution_count": 0,
   "metadata": {
    "colab": {
     "base_uri": "https://localhost:8080/"
    },
    "collapsed": false,
    "id": "5U_EISMqHeG0",
    "outputId": "b527d926-d35e-4484-8707-19f6eb82e619"
   },
   "outputs": [
    {
     "name": "stdout",
     "output_type": "stream",
     "text": [
      "string_number: 150000\n"
     ]
    }
   ],
   "source": [
    "my_string = str(my_integer) #convert the integer into a string.\n",
    "print(\"string_number:\", my_string)"
   ]
  },
  {
   "cell_type": "markdown",
   "metadata": {
    "collapsed": false,
    "id": "G823cceuHqRv"
   },
   "source": [
    "The reason why strings are powerful for processing numbers digit by digit is because they can be accessed like lists."
   ]
  },
  {
   "cell_type": "code",
   "execution_count": 0,
   "metadata": {
    "colab": {
     "base_uri": "https://localhost:8080/"
    },
    "collapsed": false,
    "id": "VuYJEIrHHtvS",
    "outputId": "92e67438-8377-4c41-9443-19f5ddff9a4e"
   },
   "outputs": [
    {
     "name": "stdout",
     "output_type": "stream",
     "text": [
      "1 5 0 0 0 0\n"
     ]
    }
   ],
   "source": [
    "print(my_string[0], my_string[1], my_string[2], my_string[3], my_string[4], my_string[5])"
   ]
  },
  {
   "cell_type": "code",
   "execution_count": 0,
   "metadata": {
    "colab": {
     "base_uri": "https://localhost:8080/"
    },
    "collapsed": false,
    "id": "P2n9yz-9Hd-V",
    "outputId": "0d4f2a26-314b-4720-a4ef-6ecbcaffc2ed"
   },
   "outputs": [
    {
     "name": "stdout",
     "output_type": "stream",
     "text": [
      "1\n",
      "5\n",
      "0\n",
      "0\n",
      "0\n",
      "0\n"
     ]
    }
   ],
   "source": [
    "for i in range(len(my_string)):\n",
    "  print(my_string[i])"
   ]
  },
  {
   "cell_type": "markdown",
   "metadata": {
    "collapsed": false,
    "id": "MywCq7XjDo7z"
   },
   "source": [
    "## Step 1: Setting a four digit number\n",
    "For this step, our program needs to set a random 4-digit number for the user to guess. It would make sense that this number is any number inbetween 1000 and 9999 right? \n",
    "\n",
    "We recommend checking out how to get random numbers in python. Maybe a google search of \"Get a random number in a certain range python\" is a good start. You should set this number to a variable to save for later. If you are stuck, look back at our old projects"
   ]
  },
  {
   "cell_type": "code",
   "execution_count": 0,
   "metadata": {
    "collapsed": false,
    "id": "2IAA6A4ZnLXx"
   },
   "outputs": [
   ],
   "source": [
    "#get a four digit integer between 1000 and 9999 and set it to a variable.\n",
    "import random\n",
    "number=random.randint(1000,9999)"
   ]
  },
  {
   "cell_type": "markdown",
   "metadata": {
    "collapsed": false,
    "id": "yl0IqDTEEzHB"
   },
   "source": [
    "## Step 2: Get the user's guess\n",
    "\n",
    "The user is now going to try to guess the 4-digit number. You should get `input()` from the user and set their guess to an integer. \n",
    "\n",
    "If you run into issues, try to google how to get integer input from a user in python!\n",
    "\n"
   ]
  },
  {
   "cell_type": "code",
   "execution_count": 1,
   "metadata": {
    "cocalc": {
     "outputs": {
      "0": {
       "name": "input",
       "opts": {
        "password": false,
        "prompt": "Your guess: "
       },
       "output_type": "stream",
       "value": "1234"
      }
     }
    },
    "collapsed": false,
    "id": "djIIncFBFQ1_"
   },
   "outputs": [
    {
     "name": "stdout",
     "output_type": "stream",
     "text": "Your guess:  1234"
    }
   ],
   "source": [
    "#prompt the user for input and set the guess to an integer.\n",
    "guess=input(\"Your guess: \")"
   ]
  },
  {
   "cell_type": "markdown",
   "metadata": {
    "collapsed": false,
    "id": "gxclhNPSFYdB"
   },
   "source": [
    "## Step 3: See if the user succeeds in first try\n",
    "\n",
    "In this part, we need to check `if` the user's guess is correct and equal to the random four-digit integer the computer generated.\n",
    "\n",
    "If the user's guess is correct, you should output something like: \n",
    "\n",
    "> \"Great! You only needed 1 try! You're a Mastermind!\"\n",
    "\n",
    "Else, then the computer hints by revealing which digits or numbers the user got correct.\n",
    "\n"
   ]
  },
  {
   "cell_type": "code",
   "execution_count": 6,
   "metadata": {
    "collapsed": false,
    "id": "ustwEFoqFkWO"
   },
   "outputs": [
    {
     "ename": "SyntaxError",
     "evalue": "invalid syntax (1092116291.py, line 16)",
     "output_type": "error",
     "traceback": [
      "\u001b[0;36m  Input \u001b[0;32mIn [6]\u001b[0;36m\u001b[0m\n\u001b[0;31m    if guess = digits:\u001b[0m\n\u001b[0m             ^\u001b[0m\n\u001b[0;31mSyntaxError\u001b[0m\u001b[0;31m:\u001b[0m invalid syntax\n"
     ]
    }
   ],
   "source": [
    "#check if the user's guess is correct\n",
    "\n",
    "#Otherwise, reveal which digits or numbers the user got correct - HINT: use string typecasting to determine which specific numbers are correct!\n",
    "\n",
    "digits=str(guess)\n",
    "digit1=guess[1]\n",
    "digit2=guess[2]\n",
    "digit3=guess[3]\n",
    "digit4=guess[4]\n",
    "correct_digits=str(number)\n",
    "correctdigit1=number[1]\n",
    "correctdigit2=number[2]\n",
    "correctdigit3=number[3]\n",
    "correctdigit4=number[4]\n",
    "\n",
    "if guess = digits:\n",
    "    print(\"Great! You only needed 1 try! You're a Mastermind!\")\n",
    "    break\n",
    "else:\n",
    "    print(\"Take another guess! Here's a hint!\")\n",
    "    print(\"The following digits were correct: \")\n",
    "    if digit1=correctdigit1:\n",
    "        print(digit1+ \" was correct\")\n",
    "    elif digit2=correctdigit2:\n",
    "        print(digit2+\" was correct\")\n",
    "    elif digit3=correctdigit3:\n",
    "        print(digit3+\" was correct)\n",
    "    elif digit4=correctdigit4:\n",
    "        print(digit4+ \"was correct\")\n",
    "    else:\n",
    "        print(\"No digits were correct.\")\n",
    "   "
   ]
  },
  {
   "cell_type": "markdown",
   "metadata": {
    "collapsed": false,
    "id": "pSDfXUdfGD1u"
   },
   "source": [
    "## Step 4: Continue in a loop.\n",
    "\n",
    "When our user is wrong, we need to let them guess again and keep a `count` of how many guesses they have used so far. We will keep looping until our user's guess is equal to the hidden number.\n",
    "\n",
    "For repetitive tasks in python, we usually use a `while` or a `for` loop. `While` loops continue executing code in a loop until a certain condition is met, and `for` loops typically are used for iterating across a piece of data. \n",
    "\n",
    "> DISCUSS: Discuss with your team and instructor which type of  loop would be better for this case.\n",
    "\n"
   ]
  },
  {
   "cell_type": "code",
   "execution_count": 13,
   "metadata": {
    "collapsed": false,
    "id": "r7xV_F6pSiAS"
   },
   "outputs": [
   ],
   "source": [
    "# Loop until the number guessed is equal to the hidden random number\n",
    "# in each loop, process the user's guess and reveal which digits or numbers the user got correct each round. \n",
    "guessamount=1\n",
    "while guess != number and guessamount <= 10:\n",
    "    digits=str(guess)\n",
    "    digit1=guess[1]\n",
    "    digit2=guess[2]\n",
    "    digit3=guess[3]\n",
    "    digit4=guess[4]\n",
    "    correct_digits=str(number)\n",
    "    correctdigit1=number[1]\n",
    "    correctdigit2=number[2]\n",
    "    correctdigit3=number[3]\n",
    "    correctdigit4=number[4]\n",
    "\n",
    "    if guess == digits:\n",
    "        print(\"Great! You're a Mastermind!\")\n",
    "        break\n",
    "    else:\n",
    "        print(\"Take another guess! Here's a hint!\")\n",
    "        print(\"The following digits were correct: \")\n",
    "        if digit1==correctdigit1:\n",
    "            print(digit1+ \" was correct\")\n",
    "        elif digit2==correctdigit2:\n",
    "            print(digit2+\" was correct\")\n",
    "        elif digit3==correctdigit3:\n",
    "            print(digit3+\" was correct\")\n",
    "        elif digit4==correctdigit4:\n",
    "            print(digit4+ \" was correct\")\n",
    "        else:\n",
    "            print(\"No digits were correct.\")\n",
    "    guessamount = guessamount + 1\n",
    "    guess=input(\"Your guess: \")"
   ]
  },
  {
   "cell_type": "markdown",
   "metadata": {
    "collapsed": false,
    "id": "MO1CHHGrSjHn"
   },
   "source": [
    "## Put it all together\n",
    "\n",
    "Combine all of your code from the previous steps below to make one smooth running program that will let a user play mastermind!\n",
    "\n"
   ]
  },
  {
   "cell_type": "code",
   "execution_count": 24,
   "metadata": {
    "cocalc": {
     "outputs": {
      "0": {
       "name": "input",
       "opts": {
        "password": false,
        "prompt": "Your guess: "
       },
       "output_type": "stream",
       "value": "1234"
      },
      "10": {
       "name": "input",
       "opts": {
        "password": false,
        "prompt": "Your guess: "
       },
       "output_type": "stream",
       "value": "5617"
      },
      "12": {
       "name": "input",
       "opts": {
        "password": false,
        "prompt": "Your guess: "
       },
       "output_type": "stream",
       "value": "5627"
      },
      "14": {
       "name": "input",
       "opts": {
        "password": false,
        "prompt": "Your guess: "
       },
       "output_type": "stream",
       "value": "1545"
      },
      "16": {
       "name": "input",
       "opts": {
        "password": false,
        "prompt": "Your guess: "
       },
       "output_type": "stream",
       "value": "1445"
      },
      "18": {
       "name": "input",
       "opts": {
        "password": false,
        "prompt": "Your guess: "
       },
       "output_type": "stream",
       "value": "1995"
      },
      "2": {
       "name": "input",
       "opts": {
        "password": false,
        "prompt": "Your guess: "
       },
       "output_type": "stream",
       "value": "2345"
      },
      "20": {
       "name": "input",
       "opts": {
        "password": false,
        "prompt": "Your guess: "
       },
       "output_type": "stream",
       "value": "1885"
      },
      "21": {
       "name": "input",
       "opts": {
        "password": false,
        "prompt": "Your guess: "
       },
       "output_type": "stream"
      },
      "24": {
       "name": "input",
       "opts": {
        "password": false,
        "prompt": "Your guess: "
       },
       "output_type": "stream",
       "value": "1075"
      },
      "26": {
       "name": "input",
       "opts": {
        "password": false,
        "prompt": "Your guess: "
       },
       "output_type": "stream",
       "value": "1675"
      },
      "28": {
       "name": "input",
       "opts": {
        "password": false,
        "prompt": "Your guess: "
       },
       "output_type": "stream",
       "value": "1765"
      },
      "30": {
       "name": "input",
       "opts": {
        "password": false,
        "prompt": "Your guess: "
       },
       "output_type": "stream",
       "value": "1785"
      },
      "32": {
       "name": "input",
       "opts": {
        "password": false,
        "prompt": "Your guess: "
       },
       "output_type": "stream"
      },
      "4": {
       "name": "input",
       "opts": {
        "password": false,
        "prompt": "Your guess: "
       },
       "output_type": "stream",
       "value": "3456"
      },
      "5": {
       "name": "input",
       "opts": {
        "password": false,
        "prompt": "Your guess: "
       },
       "output_type": "stream"
      },
      "6": {
       "name": "input",
       "opts": {
        "password": false,
        "prompt": "Your guess: "
       },
       "output_type": "stream",
       "value": "4567"
      },
      "8": {
       "name": "input",
       "opts": {
        "password": false,
        "prompt": "Your guess: "
       },
       "output_type": "stream",
       "value": "5677"
      },
      "9": {
       "name": "input",
       "opts": {
        "password": false,
        "prompt": "Your guess: "
       },
       "output_type": "stream"
      }
     }
    },
    "collapsed": false,
    "id": "28KLAYM7SlPC",
    "scrolled": true
   },
   "outputs": [
    {
     "name": "stdout",
     "output_type": "stream",
     "text": "Your guess:  1234"
    },
    {
     "name": "stdout",
     "output_type": "stream",
     "text": [
      "Take another guess! Any correct digits will show up below.\n"
     ]
    },
    {
     "name": "stdout",
     "output_type": "stream",
     "text": "Your guess:  2345"
    },
    {
     "name": "stdout",
     "output_type": "stream",
     "text": [
      "Take another guess! Any correct digits will show up below.\n"
     ]
    },
    {
     "name": "stdout",
     "output_type": "stream",
     "text": "Your guess:  3456"
    },
    {
     "name": "stdout",
     "output_type": "stream",
     "text": "Your guess:  "
    },
    {
     "name": "stdout",
     "output_type": "stream",
     "text": "Your guess:  4567"
    },
    {
     "name": "stdout",
     "output_type": "stream",
     "text": [
      "Take another guess! Any correct digits will show up below.\n",
      "7 was correct as the last digit\n"
     ]
    },
    {
     "name": "stdout",
     "output_type": "stream",
     "text": "Your guess:  5677"
    },
    {
     "name": "stdout",
     "output_type": "stream",
     "text": "Your guess:  "
    },
    {
     "name": "stdout",
     "output_type": "stream",
     "text": "Your guess:  5617"
    },
    {
     "name": "stdout",
     "output_type": "stream",
     "text": [
      "Take another guess! Any correct digits will show up below.\n",
      "5 was correct as the first digit\n",
      "6 was correct as the second digit\n",
      "7 was correct as the last digit\n"
     ]
    },
    {
     "name": "stdout",
     "output_type": "stream",
     "text": "Your guess:  5627"
    },
    {
     "name": "stdout",
     "output_type": "stream",
     "text": [
      "Great! You're a Mastermind!\n"
     ]
    }
   ],
   "source": [
    "import random\n",
    "# Generating random number\n",
    "number=random.randint(1000,9999)\n",
    "# print(number)\n",
    "guess=int(input(\"Your guess: \")) #Integer inputs only for the user to input\n",
    "guessamount=10 #sets initial guess amount\n",
    "while guess != number and guessamount >= 0: #while the guess is not the random number and while there are still guesses left\n",
    "    guess=str(guess) #makes guess a string so that it can be split into a list (below)\n",
    "    digit1=guess[0]\n",
    "    digit2=guess[1]\n",
    "    digit3=guess[2]\n",
    "    digit4=guess[3]\n",
    "    number=str(number) #Repeats the string to list process with the original number\n",
    "    correctdigit1=number[0]\n",
    "    correctdigit2=number[1]\n",
    "    correctdigit3=number[2]\n",
    "    correctdigit4=number[3]\n",
    "    guessamount = guessamount - 1 #Each time the user takes a guess, one of their tries is subtracted from the 10 try-total \n",
    "    if guess == number:\n",
    "        print(\"Great! You're a Mastermind! You guessed it with \"+guessamount+\" guesses left!\") #What is displayed once the user correctly guesses the number\n",
    "        break #breaks program so that it does not carry out below statements\n",
    "    elif guessamount>0: #If there are still guesses left\n",
    "        print(\"Take another guess! Any correct digits will show up below.\") #Displayed after the user takes a guess, and each correct digit is shown in order below\n",
    "        if digit1==correctdigit1:\n",
    "            print(digit1+ \" was correct as the first digit\")\n",
    "        if digit2==correctdigit2:\n",
    "            print(digit2+\" was correct as the second digit\")\n",
    "        if digit3==correctdigit3:\n",
    "            print(digit3+\" was correct as the third digit\")\n",
    "        if digit4==correctdigit4:\n",
    "            print(digit4+ \" was correct as the last digit\")\n",
    "    else: #when finished with all 10 guesses\n",
    "        print(\"Your tries are up.\")\n",
    "        print(number + \" was the correct number\")\n",
    "        break #breaks program so that it does not carry out below statments\n",
    "    guess=int(input(\"Your guess: \"))\n"
   ]
  },
  {
   "cell_type": "code",
   "execution_count": 23,
   "metadata": {
    "collapsed": false
   },
   "outputs": [
    {
     "data": {
      "text/plain": [
       "'If you make some adjustments to your snippet, please stop the current running process by clicking Stop. Then rerun it.'"
      ]
     },
     "execution_count": 23,
     "metadata": {
     },
     "output_type": "execute_result"
    }
   ],
   "source": [
    "\"\"\"Hint: try to divide this project into several steps, then combine the snippet in the end\"\"\"\n",
    "\"\"\"If you make some adjustments to your snippet, please stop the current running process by clicking Stop. Then rerun it.\"\"\""
   ]
  },
  {
   "cell_type": "markdown",
   "metadata": {
    "collapsed": false
   },
   "source": [
    "If you want to go further, you can find the next instructions here - https://www.geeksforgeeks.org/mastermind-game-using-python/\n",
    "\n"
   ]
  },
  {
   "cell_type": "code",
   "execution_count": 0,
   "metadata": {
    "collapsed": false
   },
   "outputs": [
   ],
   "source": [
   ]
  },
  {
   "cell_type": "code",
   "execution_count": 0,
   "metadata": {
    "collapsed": false
   },
   "outputs": [
   ],
   "source": [
   ]
  },
  {
   "cell_type": "code",
   "execution_count": 0,
   "metadata": {
    "collapsed": false
   },
   "outputs": [
   ],
   "source": [
   ]
  }
 ],
 "metadata": {
  "colab": {
   "name": "Mastermind.ipynb",
   "provenance": [
   ]
  },
  "kernelspec": {
   "display_name": "Python (cv_env)",
   "language": "python",
   "metadata": {
    "debugger": true
   },
   "name": "cv_env",
   "resource_dir": "/projects/1d08e80f-5b5f-4f94-b8c4-4b1717e45ec2/.local/share/jupyter/kernels/cv_env"
  },
  "language_info": {
   "codemirror_mode": {
    "name": "ipython",
    "version": 3
   },
   "file_extension": ".py",
   "mimetype": "text/x-python",
   "name": "python",
   "nbconvert_exporter": "python",
   "pygments_lexer": "ipython3",
   "version": "3.8.13"
  }
 },
 "nbformat": 4,
 "nbformat_minor": 4
}